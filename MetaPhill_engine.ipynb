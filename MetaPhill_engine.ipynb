{
  "nbformat": 4,
  "nbformat_minor": 0,
  "metadata": {
    "colab": {
      "provenance": []
    },
    "kernelspec": {
      "name": "python3",
      "display_name": "Python 3"
    },
    "language_info": {
      "name": "python"
    }
  },
  "cells": [
    {
      "cell_type": "code",
      "source": [
        "pip install openai xlutils xlwt"
      ],
      "metadata": {
        "id": "IiOgb_t6ehne"
      },
      "execution_count": null,
      "outputs": []
    },
    {
      "cell_type": "code",
      "execution_count": null,
      "metadata": {
        "id": "V4PkzlS2xF9V"
      },
      "outputs": [],
      "source": [
        "import os\n",
        "import openai\n",
        "import xlrd\n",
        "import xlwt\n",
        "import random\n",
        "from xlutils.copy import copy\n",
        "from xlwt import Workbook\n",
        "\n",
        "# define list of OpenAI API keys\n",
        "api_keys = [\"API_KEY\"]\n",
        "# randomly select an API key\n",
        "api_key = random.choice(api_keys)\n",
        "\n",
        "# set OpenAI API key\n",
        "openai.api_key = api_key\n",
        "\n",
        "# define OpenAI prompts\n",
        "prompts = {\n",
        "    'Study Design': 'Given the following abstract, what is the study design? please dont write sentence. just give me maximum 5 words. \\n\\nAbstract: ',\n",
        "    'Study Population/Disease/Situation': 'Given the following abstract, what is the study population? dont write sentence. just give me words. \\n\\nAbstract: ',\n",
        "    'Study Comparison/Prognostic Factor': 'Given the following abstract, what is the study comparison? dont write sentence. just give me words. \\n\\nAbstract: ',\n",
        "    'Study Exposure/Intervention': 'Given the following abstract, what is the study exposure/intervention? dont write sentence. just give me words. \\n\\nAbstract: ',\n",
        "    'Study Primary Outcome': 'Given the following abstract, what is the study primary outcome? dont write sentence. just give me words. \\n\\nAbstract: ',\n",
        "     }\n",
        "\n",
        "# set the folder path and input/output file paths\n",
        "folder_path = '/content/text_abstracts'\n",
        "input_path = '/content/results.xls'\n",
        "output_path = '/content/results.xls'\n",
        "\n",
        "# open the input file and create a copy to write the results\n",
        "input_book = xlrd.open_workbook(input_path, formatting_info=True)\n",
        "input_sheet = input_book.sheet_by_index(0)\n",
        "output_book = copy(input_book)\n",
        "output_sheet = output_book.get_sheet(0)\n",
        "\n",
        "# get the number of rows in the input file\n",
        "num_rows = input_sheet.nrows\n",
        "\n",
        "# iterate over the files in the folder\n",
        "for i, filename in enumerate(os.listdir(folder_path)):\n",
        "    # check if the file is a text file and contains more than 300 words\n",
        "    if filename.endswith('.txt'):\n",
        "        with open(os.path.join(folder_path, filename), 'r') as file:\n",
        "            text = file.read()\n",
        "        if len(text.split()) > 300:\n",
        "            # initialize a dictionary to store the results of each prompt\n",
        "            results = {'File Name': filename}\n",
        "\n",
        "\n",
        "            # iterate over each prompt and generate the response using OpenAI API\n",
        "            for key, prompt in prompts.items():\n",
        "                response = openai.Completion.create(\n",
        "                    engine=\"text-davinci-002\",\n",
        "                    prompt=prompt + text,\n",
        "                    max_tokens=600,\n",
        "                    n=1,\n",
        "                    stop=None,\n",
        "                    temperature=0.5,\n",
        "                )\n",
        "                generated_text = response.choices[0].text.strip()\n",
        "                results[key] = generated_text\n",
        "\n",
        "            # write the results to the output file\n",
        "            row = num_rows + i\n",
        "            for col, key in enumerate(results.keys()):\n",
        "                output_sheet.write(row, col, results[key])\n",
        "            output_book.save(output_path)\n"
      ]
    }
  ]
}